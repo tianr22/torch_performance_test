{
 "cells": [
  {
   "cell_type": "markdown",
   "metadata": {},
   "source": [
    "## Overall test data\n",
    "\n",
    "This script read from the logs and predicts the overall performance of the model."
   ]
  },
  {
   "cell_type": "code",
   "execution_count": null,
   "metadata": {},
   "outputs": [],
   "source": [
    "import os\n",
    "filename = \"logs/2024-05-05_20-47-32_ms_7_bs_1_sl_4096.txt\"\n",
    "assert os.path.exists(filename), f\"file {filename} does not exist\"\n",
    "from data_parser import parse\n",
    "import re\n",
    "timeinfo = parse(filename)\n",
    "print(timeinfo)\n",
    "\n",
    "ms = int(re.search(r\"ms_(\\d+)_\", filename).group(1))\n",
    "bs = int(re.search(r\"bs_(\\d+)_\", filename).group(1))\n",
    "sl = int(re.search(r\"sl_(\\d+).txt\", filename).group(1))\n",
    "print(ms, bs, sl)"
   ]
  },
  {
   "cell_type": "code",
   "execution_count": null,
   "metadata": {},
   "outputs": [],
   "source": [
    "from model_info import ModelInfo\n",
    "modelinfo = ModelInfo(ms)"
   ]
  },
  {
   "cell_type": "code",
   "execution_count": null,
   "metadata": {},
   "outputs": [],
   "source": [
    "def estimate(timeinfo, modelinfo):\n",
    "    # from platforms import PEAK\n",
    "    PEAK = 312\n",
    "    t = modelinfo.num_layers * (timeinfo[\"MLP\"] + timeinfo[\"AttnLayer\"] + timeinfo[\"RMS\"] * 2 + timeinfo[\"Rotary\"])\n",
    "    mfu = sl * bs / t / PEAK * (6 * ms)\n",
    "    for k in timeinfo:\n",
    "        timeinfo[k] *= modelinfo.num_layers\n",
    "    timeinfo[\"RMS\"] *= 2\n",
    "    return t, mfu, timeinfo"
   ]
  },
  {
   "cell_type": "code",
   "execution_count": null,
   "metadata": {},
   "outputs": [],
   "source": [
    "t, mfu, timeinfo = estimate(timeinfo, modelinfo)\n",
    "print(t, mfu, timeinfo)"
   ]
  },
  {
   "cell_type": "code",
   "execution_count": null,
   "metadata": {},
   "outputs": [],
   "source": [
    "# plot the pie chart\n",
    "import matplotlib.pyplot as plt\n",
    "labels = [f\"{k}: {v:.2f}ms\" for k, v in timeinfo.items()]\n",
    "sizes = [timeinfo[\"MLP\"], timeinfo[\"AttnLayer\"], timeinfo[\"RMS\"] * 2, timeinfo[\"Rotary\"]]\n",
    "fig1, ax1 = plt.subplots()\n",
    "ax1.pie(sizes, labels=labels, autopct='%1.1f%%', startangle=90)\n",
    "ax1.axis('equal')"
   ]
  }
 ],
 "metadata": {
  "kernelspec": {
   "display_name": "codellama",
   "language": "python",
   "name": "python3"
  },
  "language_info": {
   "codemirror_mode": {
    "name": "ipython",
    "version": 3
   },
   "file_extension": ".py",
   "mimetype": "text/x-python",
   "name": "python",
   "nbconvert_exporter": "python",
   "pygments_lexer": "ipython3",
   "version": "3.11.2"
  }
 },
 "nbformat": 4,
 "nbformat_minor": 2
}
